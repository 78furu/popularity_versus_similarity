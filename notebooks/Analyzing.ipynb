{
 "cells": [
  {
   "cell_type": "code",
   "execution_count": 1,
   "id": "quantitative-conducting",
   "metadata": {
    "ExecuteTime": {
     "end_time": "2021-07-01T16:32:21.039124Z",
     "start_time": "2021-07-01T16:32:21.035115Z"
    }
   },
   "outputs": [],
   "source": [
    "import sys\n",
    "sys.path.append('/home/kfuruglyas/Documents/popularity_versus_similarity/')"
   ]
  },
  {
   "cell_type": "code",
   "execution_count": 2,
   "id": "accepted-birthday",
   "metadata": {
    "ExecuteTime": {
     "end_time": "2021-07-01T16:32:22.088916Z",
     "start_time": "2021-07-01T16:32:21.187184Z"
    }
   },
   "outputs": [],
   "source": [
    "import networkx as nx"
   ]
  },
  {
   "cell_type": "code",
   "execution_count": 3,
   "id": "obvious-daniel",
   "metadata": {
    "ExecuteTime": {
     "end_time": "2021-07-01T16:32:23.405726Z",
     "start_time": "2021-07-01T16:32:22.091401Z"
    }
   },
   "outputs": [],
   "source": [
    "import numpy as np\n",
    "import matplotlib.pyplot as plt\n",
    "import pandas as pd\n",
    "\n",
    "from pvs import network_creation as nc\n",
    "\n",
    "from tqdm.notebook import tqdm\n",
    "from scipy.optimize import curve_fit"
   ]
  },
  {
   "cell_type": "code",
   "execution_count": null,
   "id": "academic-homework",
   "metadata": {
    "ExecuteTime": {
     "start_time": "2021-07-01T16:45:10.315Z"
    }
   },
   "outputs": [
    {
     "name": "stderr",
     "output_type": "stream",
     "text": [
      "Adding nodes:   2%|▏         | 93/4039 [00:00<00:04, 924.50it/s]"
     ]
    },
    {
     "name": "stdout",
     "output_type": "stream",
     "text": [
      "2 22\n",
      "3 22\n",
      "4 22\n",
      "5 22\n",
      "6 22\n",
      "7 22\n",
      "8 22\n",
      "9 22\n",
      "10 22\n",
      "11 22\n",
      "12 22\n",
      "13 22\n",
      "14 22\n",
      "15 22\n",
      "16 22\n",
      "17 22\n",
      "18 22\n",
      "19 22\n",
      "20 22\n",
      "21 22\n",
      "22 22\n"
     ]
    },
    {
     "name": "stderr",
     "output_type": "stream",
     "text": [
      "Adding nodes:  69%|██████▉   | 2779/4039 [00:52<00:47, 26.58it/s]"
     ]
    }
   ],
   "source": [
    "Nodes = nc.Nodes(n = 4039, m = 22, beta = 0.7,T = 7.55)"
   ]
  },
  {
   "cell_type": "code",
   "execution_count": 17,
   "id": "large-keyboard",
   "metadata": {
    "ExecuteTime": {
     "end_time": "2021-07-01T16:44:36.643364Z",
     "start_time": "2021-07-01T16:44:36.638577Z"
    }
   },
   "outputs": [],
   "source": [
    "nodes = Nodes.nodes"
   ]
  },
  {
   "cell_type": "code",
   "execution_count": 18,
   "id": "satisfied-kentucky",
   "metadata": {
    "ExecuteTime": {
     "end_time": "2021-07-01T16:44:36.864365Z",
     "start_time": "2021-07-01T16:44:36.848349Z"
    }
   },
   "outputs": [
    {
     "name": "stdout",
     "output_type": "stream",
     "text": [
      "61\n",
      "486\n",
      "581\n",
      "678\n",
      "790\n",
      "815\n",
      "898\n",
      "939\n",
      "1115\n",
      "1551\n",
      "1627\n",
      "1665\n",
      "2339\n",
      "2679\n",
      "2694\n",
      "2746\n",
      "2924\n",
      "3306\n",
      "3508\n",
      "3607\n",
      "3806\n",
      "3970\n"
     ]
    }
   ],
   "source": [
    "for n in nodes.keys():\n",
    "    if 4039 in nodes[n][\"conns\"]:\n",
    "        print(n)"
   ]
  },
  {
   "cell_type": "code",
   "execution_count": 19,
   "id": "conscious-ozone",
   "metadata": {
    "ExecuteTime": {
     "end_time": "2021-07-01T16:44:37.013611Z",
     "start_time": "2021-07-01T16:44:37.009343Z"
    }
   },
   "outputs": [
    {
     "data": {
      "text/plain": [
       "{'conns': [61,\n",
       "  3508,\n",
       "  898,\n",
       "  815,\n",
       "  1627,\n",
       "  3306,\n",
       "  2679,\n",
       "  1551,\n",
       "  2694,\n",
       "  1115,\n",
       "  581,\n",
       "  3806,\n",
       "  486,\n",
       "  1665,\n",
       "  3970,\n",
       "  939,\n",
       "  678,\n",
       "  3607,\n",
       "  2746,\n",
       "  2924,\n",
       "  790,\n",
       "  2339],\n",
       " 'theta': 310.4163680439218,\n",
       " 'pos': 5.944103170173736}"
      ]
     },
     "execution_count": 19,
     "metadata": {},
     "output_type": "execute_result"
    }
   ],
   "source": [
    "nodes[4039]"
   ]
  },
  {
   "cell_type": "code",
   "execution_count": 20,
   "id": "impressed-rapid",
   "metadata": {
    "ExecuteTime": {
     "end_time": "2021-07-01T16:44:38.056339Z",
     "start_time": "2021-07-01T16:44:37.674421Z"
    }
   },
   "outputs": [],
   "source": [
    "G = Nodes.to_networkx()"
   ]
  },
  {
   "cell_type": "code",
   "execution_count": 21,
   "id": "fourth-calculator",
   "metadata": {
    "ExecuteTime": {
     "end_time": "2021-07-01T16:44:40.399923Z",
     "start_time": "2021-07-01T16:44:38.611121Z"
    }
   },
   "outputs": [
    {
     "data": {
      "text/plain": [
       "0.6455690145485397"
      ]
     },
     "execution_count": 21,
     "metadata": {},
     "output_type": "execute_result"
    }
   ],
   "source": [
    "nx.average_clustering(G)"
   ]
  },
  {
   "cell_type": "code",
   "execution_count": 10,
   "id": "complimentary-things",
   "metadata": {
    "ExecuteTime": {
     "end_time": "2021-07-01T16:34:26.912110Z",
     "start_time": "2021-07-01T16:34:26.084965Z"
    }
   },
   "outputs": [
    {
     "ename": "KeyError",
     "evalue": "1",
     "output_type": "error",
     "traceback": [
      "\u001b[0;31m---------------------------------------------------------------------------\u001b[0m",
      "\u001b[0;31mKeyError\u001b[0m                                  Traceback (most recent call last)",
      "\u001b[0;32m<ipython-input-10-476d14c895d3>\u001b[0m in \u001b[0;36m<module>\u001b[0;34m\u001b[0m\n\u001b[0;32m----> 1\u001b[0;31m \u001b[0mG\u001b[0m\u001b[0;34m.\u001b[0m\u001b[0mnumber_of_edges\u001b[0m\u001b[0;34m(\u001b[0m\u001b[0mu\u001b[0m \u001b[0;34m=\u001b[0m \u001b[0;36m1\u001b[0m\u001b[0;34m,\u001b[0m\u001b[0;34m)\u001b[0m\u001b[0;34m\u001b[0m\u001b[0;34m\u001b[0m\u001b[0m\n\u001b[0m",
      "\u001b[0;32m~/anaconda3/lib/python3.8/site-packages/networkx/classes/graph.py\u001b[0m in \u001b[0;36mnumber_of_edges\u001b[0;34m(self, u, v)\u001b[0m\n\u001b[1;32m   1842\u001b[0m         \u001b[0;32mif\u001b[0m \u001b[0mu\u001b[0m \u001b[0;32mis\u001b[0m \u001b[0;32mNone\u001b[0m\u001b[0;34m:\u001b[0m\u001b[0;34m\u001b[0m\u001b[0;34m\u001b[0m\u001b[0m\n\u001b[1;32m   1843\u001b[0m             \u001b[0;32mreturn\u001b[0m \u001b[0mint\u001b[0m\u001b[0;34m(\u001b[0m\u001b[0mself\u001b[0m\u001b[0;34m.\u001b[0m\u001b[0msize\u001b[0m\u001b[0;34m(\u001b[0m\u001b[0;34m)\u001b[0m\u001b[0;34m)\u001b[0m\u001b[0;34m\u001b[0m\u001b[0;34m\u001b[0m\u001b[0m\n\u001b[0;32m-> 1844\u001b[0;31m         \u001b[0;32mif\u001b[0m \u001b[0mv\u001b[0m \u001b[0;32min\u001b[0m \u001b[0mself\u001b[0m\u001b[0;34m.\u001b[0m\u001b[0m_adj\u001b[0m\u001b[0;34m[\u001b[0m\u001b[0mu\u001b[0m\u001b[0;34m]\u001b[0m\u001b[0;34m:\u001b[0m\u001b[0;34m\u001b[0m\u001b[0;34m\u001b[0m\u001b[0m\n\u001b[0m\u001b[1;32m   1845\u001b[0m             \u001b[0;32mreturn\u001b[0m \u001b[0;36m1\u001b[0m\u001b[0;34m\u001b[0m\u001b[0;34m\u001b[0m\u001b[0m\n\u001b[1;32m   1846\u001b[0m         \u001b[0;32mreturn\u001b[0m \u001b[0;36m0\u001b[0m\u001b[0;34m\u001b[0m\u001b[0;34m\u001b[0m\u001b[0m\n",
      "\u001b[0;31mKeyError\u001b[0m: 1"
     ]
    }
   ],
   "source": [
    "G.number_of_edges(u = 1,)"
   ]
  },
  {
   "cell_type": "code",
   "execution_count": 11,
   "id": "sharp-campbell",
   "metadata": {
    "ExecuteTime": {
     "end_time": "2021-07-01T16:34:28.500841Z",
     "start_time": "2021-07-01T16:34:28.497181Z"
    }
   },
   "outputs": [],
   "source": [
    "df = Nodes.nodes_df"
   ]
  },
  {
   "cell_type": "code",
   "execution_count": 12,
   "id": "basic-stupid",
   "metadata": {
    "ExecuteTime": {
     "end_time": "2021-07-01T16:34:29.876801Z",
     "start_time": "2021-07-01T16:34:29.396769Z"
    }
   },
   "outputs": [],
   "source": [
    "df['num_of_edges'] = [len(r[\"conns\"]) for i, r in df.iterrows()]"
   ]
  },
  {
   "cell_type": "code",
   "execution_count": 13,
   "id": "incorporate-manhattan",
   "metadata": {
    "ExecuteTime": {
     "end_time": "2021-07-01T16:34:29.991055Z",
     "start_time": "2021-07-01T16:34:29.953914Z"
    }
   },
   "outputs": [
    {
     "data": {
      "text/html": [
       "<div>\n",
       "<style scoped>\n",
       "    .dataframe tbody tr th:only-of-type {\n",
       "        vertical-align: middle;\n",
       "    }\n",
       "\n",
       "    .dataframe tbody tr th {\n",
       "        vertical-align: top;\n",
       "    }\n",
       "\n",
       "    .dataframe thead th {\n",
       "        text-align: right;\n",
       "    }\n",
       "</style>\n",
       "<table border=\"1\" class=\"dataframe\">\n",
       "  <thead>\n",
       "    <tr style=\"text-align: right;\">\n",
       "      <th></th>\n",
       "      <th>conns</th>\n",
       "      <th>theta</th>\n",
       "      <th>pos</th>\n",
       "      <th>num_of_edges</th>\n",
       "    </tr>\n",
       "  </thead>\n",
       "  <tbody>\n",
       "    <tr>\n",
       "      <th>2</th>\n",
       "      <td>[3, 4, 5, 6, 7, 8, 9, 10, 11, 12, 13, 14, 15, ...</td>\n",
       "      <td>240.711537</td>\n",
       "      <td>0.540212</td>\n",
       "      <td>426</td>\n",
       "    </tr>\n",
       "    <tr>\n",
       "      <th>3</th>\n",
       "      <td>[2, 4, 5, 6, 7, 8, 9, 10, 11, 12, 13, 14, 15, ...</td>\n",
       "      <td>154.961732</td>\n",
       "      <td>0.702398</td>\n",
       "      <td>358</td>\n",
       "    </tr>\n",
       "    <tr>\n",
       "      <th>4</th>\n",
       "      <td>[2, 3, 5, 6, 7, 8, 9, 10, 11, 12, 13, 14, 15, ...</td>\n",
       "      <td>350.225959</td>\n",
       "      <td>0.817471</td>\n",
       "      <td>241</td>\n",
       "    </tr>\n",
       "    <tr>\n",
       "      <th>5</th>\n",
       "      <td>[2, 3, 4, 6, 7, 8, 9, 10, 11, 12, 13, 14, 15, ...</td>\n",
       "      <td>354.969024</td>\n",
       "      <td>0.906728</td>\n",
       "      <td>219</td>\n",
       "    </tr>\n",
       "    <tr>\n",
       "      <th>6</th>\n",
       "      <td>[2, 3, 4, 5, 7, 8, 9, 10, 11, 12, 13, 14, 15, ...</td>\n",
       "      <td>34.942153</td>\n",
       "      <td>0.979657</td>\n",
       "      <td>249</td>\n",
       "    </tr>\n",
       "    <tr>\n",
       "      <th>...</th>\n",
       "      <td>...</td>\n",
       "      <td>...</td>\n",
       "      <td>...</td>\n",
       "      <td>...</td>\n",
       "    </tr>\n",
       "    <tr>\n",
       "      <th>4036</th>\n",
       "      <td>[3223, 1908, 2822, 3340, 443, 2388, 653, 3237,...</td>\n",
       "      <td>271.585318</td>\n",
       "      <td>3.584157</td>\n",
       "      <td>22</td>\n",
       "    </tr>\n",
       "    <tr>\n",
       "      <th>4037</th>\n",
       "      <td>[3743, 637, 3271, 1916, 324, 3396, 1549, 196, ...</td>\n",
       "      <td>343.234787</td>\n",
       "      <td>3.584256</td>\n",
       "      <td>22</td>\n",
       "    </tr>\n",
       "    <tr>\n",
       "      <th>4038</th>\n",
       "      <td>[719, 3341, 314, 1217, 2184, 731, 490, 585, 23...</td>\n",
       "      <td>44.087238</td>\n",
       "      <td>3.584355</td>\n",
       "      <td>22</td>\n",
       "    </tr>\n",
       "    <tr>\n",
       "      <th>4039</th>\n",
       "      <td>[427, 2032, 2980, 2376, 912, 3624, 3441, 2522,...</td>\n",
       "      <td>7.473085</td>\n",
       "      <td>3.584454</td>\n",
       "      <td>22</td>\n",
       "    </tr>\n",
       "    <tr>\n",
       "      <th>4040</th>\n",
       "      <td>[192, 1372, 3024, 1973, 358, 577, 1171, 2394, ...</td>\n",
       "      <td>60.351335</td>\n",
       "      <td>3.584553</td>\n",
       "      <td>22</td>\n",
       "    </tr>\n",
       "  </tbody>\n",
       "</table>\n",
       "<p>4039 rows × 4 columns</p>\n",
       "</div>"
      ],
      "text/plain": [
       "                                                  conns       theta       pos  \\\n",
       "2     [3, 4, 5, 6, 7, 8, 9, 10, 11, 12, 13, 14, 15, ...  240.711537  0.540212   \n",
       "3     [2, 4, 5, 6, 7, 8, 9, 10, 11, 12, 13, 14, 15, ...  154.961732  0.702398   \n",
       "4     [2, 3, 5, 6, 7, 8, 9, 10, 11, 12, 13, 14, 15, ...  350.225959  0.817471   \n",
       "5     [2, 3, 4, 6, 7, 8, 9, 10, 11, 12, 13, 14, 15, ...  354.969024  0.906728   \n",
       "6     [2, 3, 4, 5, 7, 8, 9, 10, 11, 12, 13, 14, 15, ...   34.942153  0.979657   \n",
       "...                                                 ...         ...       ...   \n",
       "4036  [3223, 1908, 2822, 3340, 443, 2388, 653, 3237,...  271.585318  3.584157   \n",
       "4037  [3743, 637, 3271, 1916, 324, 3396, 1549, 196, ...  343.234787  3.584256   \n",
       "4038  [719, 3341, 314, 1217, 2184, 731, 490, 585, 23...   44.087238  3.584355   \n",
       "4039  [427, 2032, 2980, 2376, 912, 3624, 3441, 2522,...    7.473085  3.584454   \n",
       "4040  [192, 1372, 3024, 1973, 358, 577, 1171, 2394, ...   60.351335  3.584553   \n",
       "\n",
       "      num_of_edges  \n",
       "2              426  \n",
       "3              358  \n",
       "4              241  \n",
       "5              219  \n",
       "6              249  \n",
       "...            ...  \n",
       "4036            22  \n",
       "4037            22  \n",
       "4038            22  \n",
       "4039            22  \n",
       "4040            22  \n",
       "\n",
       "[4039 rows x 4 columns]"
      ]
     },
     "execution_count": 13,
     "metadata": {},
     "output_type": "execute_result"
    }
   ],
   "source": [
    "df"
   ]
  },
  {
   "cell_type": "code",
   "execution_count": 15,
   "id": "beautiful-aberdeen",
   "metadata": {
    "ExecuteTime": {
     "end_time": "2021-07-01T16:41:10.264640Z",
     "start_time": "2021-07-01T16:41:07.127194Z"
    }
   },
   "outputs": [
    {
     "data": {
      "image/png": "[encoded data removed]",
      "text/plain": [
       "<Figure size 432x288 with 1 Axes>"
      ]
     },
     "metadata": {},
     "output_type": "display_data"
    }
   ],
   "source": [
    "fig, ax = plt.subplots(1,1, facecolor = 'white')\n",
    "\n",
    "bins = np.logspace(np.log10(df.num_of_edges.min()),np.log10(df.num_of_edges.max()), 1000)\n",
    "\n",
    "df.num_of_edges.hist(bins = bins, ax = ax)\n",
    "\n",
    "ax.set_yscale('log')\n",
    "ax.set_xscale('log')"
   ]
  },
  {
   "cell_type": "code",
   "execution_count": null,
   "id": "talented-thompson",
   "metadata": {
    "ExecuteTime": {
     "end_time": "2021-06-30T22:19:06.594344Z",
     "start_time": "2021-06-30T22:19:06.585060Z"
    }
   },
   "outputs": [],
   "source": []
  },
  {
   "cell_type": "code",
   "execution_count": 105,
   "id": "individual-request",
   "metadata": {
    "ExecuteTime": {
     "end_time": "2021-06-30T22:19:07.337401Z",
     "start_time": "2021-06-30T22:19:06.880059Z"
    }
   },
   "outputs": [],
   "source": [
    "G_fb = nx.read_edgelist(\"facebook_combined.txt\")"
   ]
  },
  {
   "cell_type": "code",
   "execution_count": 37,
   "id": "furnished-google",
   "metadata": {
    "ExecuteTime": {
     "end_time": "2021-06-16T23:05:06.384432Z",
     "start_time": "2021-06-16T23:05:06.374697Z"
    }
   },
   "outputs": [
    {
     "name": "stdout",
     "output_type": "stream",
     "text": [
      "Name: \n",
      "Type: Graph\n",
      "Number of nodes: 4039\n",
      "Number of edges: 88605\n",
      "Average degree:  43.8747\n"
     ]
    }
   ],
   "source": [
    "print(nx.info(G))"
   ]
  },
  {
   "cell_type": "code",
   "execution_count": 9,
   "id": "compound-belarus",
   "metadata": {
    "ExecuteTime": {
     "end_time": "2021-06-30T13:17:45.849765Z",
     "start_time": "2021-06-30T13:17:45.839357Z"
    }
   },
   "outputs": [
    {
     "name": "stdout",
     "output_type": "stream",
     "text": [
      "Name: \n",
      "Type: Graph\n",
      "Number of nodes: 4039\n",
      "Number of edges: 88234\n",
      "Average degree:  43.6910\n"
     ]
    }
   ],
   "source": [
    "print(nx.info(G_fb))"
   ]
  },
  {
   "cell_type": "code",
   "execution_count": 10,
   "id": "special-reggae",
   "metadata": {
    "ExecuteTime": {
     "end_time": "2021-06-30T13:30:40.413089Z",
     "start_time": "2021-06-30T13:30:35.733450Z"
    }
   },
   "outputs": [
    {
     "name": "stdout",
     "output_type": "stream",
     "text": [
      "0.6064805291595774\n",
      "0.6055467186200876\n"
     ]
    }
   ],
   "source": [
    "print(nx.average_clustering(G))\n",
    "print(nx.average_clustering(G_fb))"
   ]
  },
  {
   "cell_type": "code",
   "execution_count": 30,
   "id": "careful-webcam",
   "metadata": {
    "ExecuteTime": {
     "end_time": "2021-06-30T20:31:58.606143Z",
     "start_time": "2021-06-30T20:30:10.997025Z"
    }
   },
   "outputs": [
    {
     "name": "stdout",
     "output_type": "stream",
     "text": [
      "3.4041571645255195\n",
      "3.6925068496963913\n"
     ]
    }
   ],
   "source": [
    "print(nx.average_shortest_path_length(G))\n",
    "print(nx.average_shortest_path_length(G_fb))"
   ]
  },
  {
   "cell_type": "code",
   "execution_count": 115,
   "id": "super-crisis",
   "metadata": {
    "ExecuteTime": {
     "end_time": "2021-06-30T22:21:41.200113Z",
     "start_time": "2021-06-30T22:21:41.196539Z"
    }
   },
   "outputs": [],
   "source": [
    "def power_law(x, gamma, c):\n",
    "    return c*x**(-gamma)"
   ]
  },
  {
   "cell_type": "code",
   "execution_count": 174,
   "id": "accompanied-protest",
   "metadata": {
    "ExecuteTime": {
     "end_time": "2021-06-30T22:41:27.035511Z",
     "start_time": "2021-06-30T22:41:27.026447Z"
    }
   },
   "outputs": [],
   "source": [
    "bins = range(df.num_of_edges.min(),df.num_of_edges.max())\n",
    "\n",
    "ydata, xdata = np.histogram(df.num_of_edges, bins = bins)\n",
    "xdata = xdata[:-1]\n",
    "\n",
    "datas = [(x,y) for x,y in zip(xdata, ydata) if y !=0]\n",
    "xdata, ydata = np.array([i[0] for i in datas]), np.array([i[1] for i in datas])"
   ]
  },
  {
   "cell_type": "code",
   "execution_count": 175,
   "id": "caroline-deposit",
   "metadata": {
    "ExecuteTime": {
     "end_time": "2021-06-30T22:41:28.122347Z",
     "start_time": "2021-06-30T22:41:27.410375Z"
    }
   },
   "outputs": [
    {
     "data": {
      "image/png": "[encoded data removed]",
      "text/plain": [
       "<Figure size 432x288 with 1 Axes>"
      ]
     },
     "metadata": {
      "needs_background": "light"
     },
     "output_type": "display_data"
    }
   ],
   "source": [
    "\n",
    "popt, pcov = curve_fit(power_law, xdata, ydata)\n",
    "\n",
    "plt.plot(xdata, ydata, \".\" )\n",
    "\n",
    "plt.plot(xdata, power_law(xdata, *popt), 'r-', )\n",
    "plt.xscale('log')\n",
    "plt.yscale('log')\n"
   ]
  },
  {
   "cell_type": "code",
   "execution_count": 176,
   "id": "ultimate-savings",
   "metadata": {
    "ExecuteTime": {
     "end_time": "2021-06-30T22:41:29.696615Z",
     "start_time": "2021-06-30T22:41:29.690572Z"
    }
   },
   "outputs": [
    {
     "data": {
      "text/plain": [
       "array([1.88961202e+00, 7.20532797e+04])"
      ]
     },
     "execution_count": 176,
     "metadata": {},
     "output_type": "execute_result"
    }
   ],
   "source": [
    "popt"
   ]
  },
  {
   "cell_type": "code",
   "execution_count": 177,
   "id": "rural-tissue",
   "metadata": {
    "ExecuteTime": {
     "end_time": "2021-06-30T22:41:30.398533Z",
     "start_time": "2021-06-30T22:41:30.382984Z"
    }
   },
   "outputs": [],
   "source": [
    "degrees = np.array(list(dict(G_fb.degree()).values()))"
   ]
  },
  {
   "cell_type": "code",
   "execution_count": 178,
   "id": "hundred-element",
   "metadata": {
    "ExecuteTime": {
     "end_time": "2021-06-30T22:41:30.677615Z",
     "start_time": "2021-06-30T22:41:30.672231Z"
    }
   },
   "outputs": [
    {
     "data": {
      "text/plain": [
       "array([347,  17,  10, ...,   2,   4,   9])"
      ]
     },
     "execution_count": 178,
     "metadata": {},
     "output_type": "execute_result"
    }
   ],
   "source": [
    "degrees"
   ]
  },
  {
   "cell_type": "code",
   "execution_count": 179,
   "id": "dedicated-probe",
   "metadata": {
    "ExecuteTime": {
     "end_time": "2021-06-30T22:41:30.936439Z",
     "start_time": "2021-06-30T22:41:30.926472Z"
    }
   },
   "outputs": [],
   "source": [
    "bins = range(degrees.min(),degrees.max())\n",
    "\n",
    "ydata, xdata = np.histogram(degrees, bins = bins)\n",
    "xdata = xdata[:-1]\n",
    "\n",
    "datas = [(x,y) for x,y in zip(xdata, ydata) if y !=0 and x]\n",
    "xdata, ydata = np.array([i[0] for i in datas]), np.array([i[1] for i in datas])"
   ]
  },
  {
   "cell_type": "code",
   "execution_count": 180,
   "id": "everyday-cardiff",
   "metadata": {
    "ExecuteTime": {
     "end_time": "2021-06-30T22:41:31.902015Z",
     "start_time": "2021-06-30T22:41:31.180570Z"
    }
   },
   "outputs": [
    {
     "name": "stderr",
     "output_type": "stream",
     "text": [
      "<ipython-input-115-dfc6b626ea1f>:2: RuntimeWarning: overflow encountered in power\n",
      "  return c*x**(-gamma)\n"
     ]
    },
    {
     "data": {
      "image/png": "[encoded data removed]",
      "text/plain": [
       "<Figure size 432x288 with 1 Axes>"
      ]
     },
     "metadata": {
      "needs_background": "light"
     },
     "output_type": "display_data"
    }
   ],
   "source": [
    "\n",
    "popt, pcov = curve_fit(power_law, xdata, ydata)\n",
    "\n",
    "plt.plot(xdata, ydata, \".\" )\n",
    "\n",
    "plt.plot(xdata, power_law(xdata, *popt), 'r-', )\n",
    "plt.xscale('log')\n",
    "plt.yscale('log')\n"
   ]
  },
  {
   "cell_type": "code",
   "execution_count": 181,
   "id": "effective-playback",
   "metadata": {
    "ExecuteTime": {
     "end_time": "2021-06-30T22:41:32.925379Z",
     "start_time": "2021-06-30T22:41:32.918554Z"
    }
   },
   "outputs": [
    {
     "data": {
      "text/plain": [
       "array([  0.50655165, 169.64780068])"
      ]
     },
     "execution_count": 181,
     "metadata": {},
     "output_type": "execute_result"
    }
   ],
   "source": [
    "popt"
   ]
  },
  {
   "cell_type": "code",
   "execution_count": null,
   "id": "incorporate-modification",
   "metadata": {},
   "outputs": [],
   "source": []
  }
 ],
 "metadata": {
  "kernelspec": {
   "display_name": "Python 3",
   "language": "python",
   "name": "python3"
  },
  "language_info": {
   "codemirror_mode": {
    "name": "ipython",
    "version": 3
   },
   "file_extension": ".py",
   "mimetype": "text/x-python",
   "name": "python",
   "nbconvert_exporter": "python",
   "pygments_lexer": "ipython3",
   "version": "3.8.5"
  },
  "latex_envs": {
   "LaTeX_envs_menu_present": true,
   "autoclose": false,
   "autocomplete": true,
   "bibliofile": "biblio.bib",
   "cite_by": "apalike",
   "current_citInitial": 1,
   "eqLabelWithNumbers": true,
   "eqNumInitial": 1,
   "hotkeys": {
    "equation": "Ctrl-E",
    "itemize": "Ctrl-I"
   },
   "labels_anchors": false,
   "latex_user_defs": false,
   "report_style_numbering": false,
   "user_envs_cfg": false
  },
  "toc": {
   "base_numbering": 1,
   "nav_menu": {},
   "number_sections": true,
   "sideBar": true,
   "skip_h1_title": false,
   "title_cell": "Table of Contents",
   "title_sidebar": "Contents",
   "toc_cell": false,
   "toc_position": {},
   "toc_section_display": true,
   "toc_window_display": false
  }
 },
 "nbformat": 4,
 "nbformat_minor": 5
}
