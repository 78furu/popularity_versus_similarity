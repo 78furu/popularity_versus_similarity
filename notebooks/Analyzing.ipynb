{
 "cells": [
  {
   "cell_type": "code",
   "execution_count": 1,
   "id": "quantitative-conducting",
   "metadata": {
    "ExecuteTime": {
     "end_time": "2021-07-01T14:24:07.960465Z",
     "start_time": "2021-07-01T14:24:07.947392Z"
    }
   },
   "outputs": [],
   "source": [
    "import sys\n",
    "sys.path.append('/home/kfuruglyas/Documents/popularity_versus_similarity/')"
   ]
  },
  {
   "cell_type": "code",
   "execution_count": 2,
   "id": "accepted-birthday",
   "metadata": {
    "ExecuteTime": {
     "end_time": "2021-07-01T14:24:09.015544Z",
     "start_time": "2021-07-01T14:24:07.963107Z"
    }
   },
   "outputs": [],
   "source": [
    "import networkx as nx"
   ]
  },
  {
   "cell_type": "code",
   "execution_count": 3,
   "id": "obvious-daniel",
   "metadata": {
    "ExecuteTime": {
     "end_time": "2021-07-01T14:24:10.412311Z",
     "start_time": "2021-07-01T14:24:09.018092Z"
    }
   },
   "outputs": [],
   "source": [
    "import numpy as np\n",
    "import matplotlib.pyplot as plt\n",
    "import pandas as pd\n",
    "\n",
    "from pvs import network_creation as nc\n",
    "\n",
    "from tqdm.notebook import tqdm\n",
    "from scipy.optimize import curve_fit"
   ]
  },
  {
   "cell_type": "code",
   "execution_count": 4,
   "id": "academic-homework",
   "metadata": {
    "ExecuteTime": {
     "end_time": "2021-07-01T14:26:09.857924Z",
     "start_time": "2021-07-01T14:24:10.415432Z"
    }
   },
   "outputs": [
    {
     "name": "stderr",
     "output_type": "stream",
     "text": [
      "Adding nodes:   0%|          | 0/4039 [00:00<?, ?it/s]/home/kfuruglyas/Documents/popularity_versus_similarity/pvs/network_creation.py:92: RuntimeWarning: divide by zero encountered in log\n",
      "  dists[key] = np.log(nodes[n]['pos']*nodes[key]['pos']\n",
      "                                                                 \r"
     ]
    }
   ],
   "source": [
    "Nodes = nc.Nodes(n = 4039, m = 22, beta = 0.4,T = 1.55)"
   ]
  },
  {
   "cell_type": "code",
   "execution_count": 5,
   "id": "suitable-payment",
   "metadata": {
    "ExecuteTime": {
     "end_time": "2021-07-01T14:26:12.939309Z",
     "start_time": "2021-07-01T14:26:12.935465Z"
    }
   },
   "outputs": [],
   "source": [
    "nodes = Nodes.nodes"
   ]
  },
  {
   "cell_type": "code",
   "execution_count": 6,
   "id": "executive-shelf",
   "metadata": {
    "ExecuteTime": {
     "end_time": "2021-07-01T14:26:13.138992Z",
     "start_time": "2021-07-01T14:26:13.123159Z"
    }
   },
   "outputs": [
    {
     "name": "stdout",
     "output_type": "stream",
     "text": [
      "30\n",
      "172\n",
      "233\n",
      "458\n",
      "517\n",
      "848\n",
      "988\n",
      "1054\n",
      "1099\n",
      "1283\n",
      "1465\n",
      "1593\n",
      "1767\n",
      "2215\n",
      "2307\n",
      "2591\n",
      "2886\n",
      "3154\n",
      "3894\n",
      "3929\n",
      "3973\n",
      "4001\n"
     ]
    }
   ],
   "source": [
    "for n in nodes.keys():\n",
    "    if 4039 in nodes[n][\"conns\"]:\n",
    "        print(n)"
   ]
  },
  {
   "cell_type": "code",
   "execution_count": 7,
   "id": "linear-sleeping",
   "metadata": {
    "ExecuteTime": {
     "end_time": "2021-07-01T14:26:13.293343Z",
     "start_time": "2021-07-01T14:26:13.282961Z"
    }
   },
   "outputs": [
    {
     "data": {
      "text/plain": [
       "{'conns': [2307,\n",
       "  1593,\n",
       "  233,\n",
       "  988,\n",
       "  4001,\n",
       "  1465,\n",
       "  3154,\n",
       "  3894,\n",
       "  517,\n",
       "  3929,\n",
       "  172,\n",
       "  2886,\n",
       "  3973,\n",
       "  30,\n",
       "  848,\n",
       "  1283,\n",
       "  2591,\n",
       "  2215,\n",
       "  458,\n",
       "  1767,\n",
       "  1099,\n",
       "  1054],\n",
       " 'theta': 321.43826348256584,\n",
       " 'pos': 8.303752415563412}"
      ]
     },
     "execution_count": 7,
     "metadata": {},
     "output_type": "execute_result"
    }
   ],
   "source": [
    "nodes[4039]"
   ]
  },
  {
   "cell_type": "code",
   "execution_count": 8,
   "id": "sunset-procedure",
   "metadata": {
    "ExecuteTime": {
     "end_time": "2021-07-01T14:26:14.369595Z",
     "start_time": "2021-07-01T14:26:13.974150Z"
    }
   },
   "outputs": [],
   "source": [
    "G = Nodes.to_networkx()"
   ]
  },
  {
   "cell_type": "code",
   "execution_count": 9,
   "id": "fourth-calculator",
   "metadata": {
    "ExecuteTime": {
     "end_time": "2021-07-01T14:26:16.657261Z",
     "start_time": "2021-07-01T14:26:14.922332Z"
    }
   },
   "outputs": [
    {
     "data": {
      "text/plain": [
       "0.6083038151101045"
      ]
     },
     "execution_count": 9,
     "metadata": {},
     "output_type": "execute_result"
    }
   ],
   "source": [
    "nx.average_clustering(G)"
   ]
  },
  {
   "cell_type": "code",
   "execution_count": 10,
   "id": "patient-adaptation",
   "metadata": {
    "ExecuteTime": {
     "end_time": "2021-07-01T14:26:20.051878Z",
     "start_time": "2021-07-01T14:26:20.045087Z"
    }
   },
   "outputs": [
    {
     "data": {
      "text/plain": [
       "0"
      ]
     },
     "execution_count": 10,
     "metadata": {},
     "output_type": "execute_result"
    }
   ],
   "source": [
    "G.number_of_edges(u = 1,)"
   ]
  },
  {
   "cell_type": "code",
   "execution_count": 11,
   "id": "heated-airplane",
   "metadata": {
    "ExecuteTime": {
     "end_time": "2021-07-01T14:26:20.945188Z",
     "start_time": "2021-07-01T14:26:20.941957Z"
    }
   },
   "outputs": [],
   "source": [
    "df = Nodes.nodes_df"
   ]
  },
  {
   "cell_type": "code",
   "execution_count": 12,
   "id": "guilty-radical",
   "metadata": {
    "ExecuteTime": {
     "end_time": "2021-07-01T14:26:22.097273Z",
     "start_time": "2021-07-01T14:26:21.600982Z"
    }
   },
   "outputs": [],
   "source": [
    "df['num_of_edges'] = [len(r[\"conns\"]) for i, r in df.iterrows()]"
   ]
  },
  {
   "cell_type": "code",
   "execution_count": 13,
   "id": "shared-suspect",
   "metadata": {
    "ExecuteTime": {
     "end_time": "2021-07-01T14:26:22.143092Z",
     "start_time": "2021-07-01T14:26:22.099874Z"
    }
   },
   "outputs": [
    {
     "data": {
      "text/html": [
       "<div>\n",
       "<style scoped>\n",
       "    .dataframe tbody tr th:only-of-type {\n",
       "        vertical-align: middle;\n",
       "    }\n",
       "\n",
       "    .dataframe tbody tr th {\n",
       "        vertical-align: top;\n",
       "    }\n",
       "\n",
       "    .dataframe thead th {\n",
       "        text-align: right;\n",
       "    }\n",
       "</style>\n",
       "<table border=\"1\" class=\"dataframe\">\n",
       "  <thead>\n",
       "    <tr style=\"text-align: right;\">\n",
       "      <th></th>\n",
       "      <th>conns</th>\n",
       "      <th>theta</th>\n",
       "      <th>pos</th>\n",
       "      <th>num_of_edges</th>\n",
       "    </tr>\n",
       "  </thead>\n",
       "  <tbody>\n",
       "    <tr>\n",
       "      <th>1</th>\n",
       "      <td>[2, 3, 4, 5, 6, 7, 8, 9, 10, 11, 12, 13, 14, 1...</td>\n",
       "      <td>89.947956</td>\n",
       "      <td>4.982251</td>\n",
       "      <td>187</td>\n",
       "    </tr>\n",
       "    <tr>\n",
       "      <th>2</th>\n",
       "      <td>[1, 3, 4, 5, 6, 7, 8, 9, 10, 11, 12, 13, 14, 1...</td>\n",
       "      <td>41.784665</td>\n",
       "      <td>5.259510</td>\n",
       "      <td>180</td>\n",
       "    </tr>\n",
       "    <tr>\n",
       "      <th>3</th>\n",
       "      <td>[1, 2, 4, 5, 6, 7, 8, 9, 10, 11, 12, 13, 14, 1...</td>\n",
       "      <td>96.472222</td>\n",
       "      <td>5.421696</td>\n",
       "      <td>160</td>\n",
       "    </tr>\n",
       "    <tr>\n",
       "      <th>4</th>\n",
       "      <td>[1, 2, 3, 5, 6, 7, 8, 9, 10, 11, 12, 13, 14, 1...</td>\n",
       "      <td>243.529152</td>\n",
       "      <td>5.536769</td>\n",
       "      <td>167</td>\n",
       "    </tr>\n",
       "    <tr>\n",
       "      <th>5</th>\n",
       "      <td>[1, 2, 3, 4, 6, 7, 8, 9, 10, 11, 12, 13, 14, 1...</td>\n",
       "      <td>31.418589</td>\n",
       "      <td>5.626027</td>\n",
       "      <td>158</td>\n",
       "    </tr>\n",
       "    <tr>\n",
       "      <th>...</th>\n",
       "      <td>...</td>\n",
       "      <td>...</td>\n",
       "      <td>...</td>\n",
       "      <td>...</td>\n",
       "    </tr>\n",
       "    <tr>\n",
       "      <th>4035</th>\n",
       "      <td>[2083, 1831, 1503, 442, 1769, 1399, 3479, 1408...</td>\n",
       "      <td>205.989350</td>\n",
       "      <td>8.303356</td>\n",
       "      <td>22</td>\n",
       "    </tr>\n",
       "    <tr>\n",
       "      <th>4036</th>\n",
       "      <td>[444, 1800, 3419, 1353, 1346, 871, 1136, 3623,...</td>\n",
       "      <td>57.422218</td>\n",
       "      <td>8.303455</td>\n",
       "      <td>22</td>\n",
       "    </tr>\n",
       "    <tr>\n",
       "      <th>4037</th>\n",
       "      <td>[3084, 2179, 126, 1343, 620, 3847, 2164, 1545,...</td>\n",
       "      <td>164.585017</td>\n",
       "      <td>8.303554</td>\n",
       "      <td>22</td>\n",
       "    </tr>\n",
       "    <tr>\n",
       "      <th>4038</th>\n",
       "      <td>[700, 916, 1268, 623, 148, 1495, 2354, 614, 40...</td>\n",
       "      <td>274.734523</td>\n",
       "      <td>8.303653</td>\n",
       "      <td>22</td>\n",
       "    </tr>\n",
       "    <tr>\n",
       "      <th>4039</th>\n",
       "      <td>[2307, 1593, 233, 988, 4001, 1465, 3154, 3894,...</td>\n",
       "      <td>321.438263</td>\n",
       "      <td>8.303752</td>\n",
       "      <td>22</td>\n",
       "    </tr>\n",
       "  </tbody>\n",
       "</table>\n",
       "<p>4039 rows × 4 columns</p>\n",
       "</div>"
      ],
      "text/plain": [
       "                                                  conns       theta       pos  \\\n",
       "1     [2, 3, 4, 5, 6, 7, 8, 9, 10, 11, 12, 13, 14, 1...   89.947956  4.982251   \n",
       "2     [1, 3, 4, 5, 6, 7, 8, 9, 10, 11, 12, 13, 14, 1...   41.784665  5.259510   \n",
       "3     [1, 2, 4, 5, 6, 7, 8, 9, 10, 11, 12, 13, 14, 1...   96.472222  5.421696   \n",
       "4     [1, 2, 3, 5, 6, 7, 8, 9, 10, 11, 12, 13, 14, 1...  243.529152  5.536769   \n",
       "5     [1, 2, 3, 4, 6, 7, 8, 9, 10, 11, 12, 13, 14, 1...   31.418589  5.626027   \n",
       "...                                                 ...         ...       ...   \n",
       "4035  [2083, 1831, 1503, 442, 1769, 1399, 3479, 1408...  205.989350  8.303356   \n",
       "4036  [444, 1800, 3419, 1353, 1346, 871, 1136, 3623,...   57.422218  8.303455   \n",
       "4037  [3084, 2179, 126, 1343, 620, 3847, 2164, 1545,...  164.585017  8.303554   \n",
       "4038  [700, 916, 1268, 623, 148, 1495, 2354, 614, 40...  274.734523  8.303653   \n",
       "4039  [2307, 1593, 233, 988, 4001, 1465, 3154, 3894,...  321.438263  8.303752   \n",
       "\n",
       "      num_of_edges  \n",
       "1              187  \n",
       "2              180  \n",
       "3              160  \n",
       "4              167  \n",
       "5              158  \n",
       "...            ...  \n",
       "4035            22  \n",
       "4036            22  \n",
       "4037            22  \n",
       "4038            22  \n",
       "4039            22  \n",
       "\n",
       "[4039 rows x 4 columns]"
      ]
     },
     "execution_count": 13,
     "metadata": {},
     "output_type": "execute_result"
    }
   ],
   "source": [
    "df"
   ]
  },
  {
   "cell_type": "code",
   "execution_count": 69,
   "id": "atlantic-hands",
   "metadata": {
    "ExecuteTime": {
     "end_time": "2021-06-30T22:11:15.822590Z",
     "start_time": "2021-06-30T22:11:12.602574Z"
    }
   },
   "outputs": [
    {
     "data": {
      "image/png": "[encoded data removed]",
      "text/plain": [
       "<Figure size 432x288 with 1 Axes>"
      ]
     },
     "metadata": {},
     "output_type": "display_data"
    }
   ],
   "source": [
    "fig, ax = plt.subplots(1,1, facecolor = 'white')\n",
    "\n",
    "bins = np.logspace(np.log10(df.num_of_edges.min()),np.log10(df.num_of_edges.max()), 100)\n",
    "\n",
    "df.num_of_edges.hist(bins = bins, ax = ax)\n",
    "\n",
    "ax.set_yscale('log')\n",
    "ax.set_xscale('log')"
   ]
  },
  {
   "cell_type": "code",
   "execution_count": 104,
   "id": "simplified-crime",
   "metadata": {
    "ExecuteTime": {
     "end_time": "2021-06-30T22:19:06.594344Z",
     "start_time": "2021-06-30T22:19:06.585060Z"
    }
   },
   "outputs": [],
   "source": []
  },
  {
   "cell_type": "code",
   "execution_count": 105,
   "id": "reliable-questionnaire",
   "metadata": {
    "ExecuteTime": {
     "end_time": "2021-06-30T22:19:07.337401Z",
     "start_time": "2021-06-30T22:19:06.880059Z"
    }
   },
   "outputs": [],
   "source": [
    "G_fb = nx.read_edgelist(\"facebook_combined.txt\")"
   ]
  },
  {
   "cell_type": "code",
   "execution_count": 37,
   "id": "furnished-google",
   "metadata": {
    "ExecuteTime": {
     "end_time": "2021-06-16T23:05:06.384432Z",
     "start_time": "2021-06-16T23:05:06.374697Z"
    }
   },
   "outputs": [
    {
     "name": "stdout",
     "output_type": "stream",
     "text": [
      "Name: \n",
      "Type: Graph\n",
      "Number of nodes: 4039\n",
      "Number of edges: 88605\n",
      "Average degree:  43.8747\n"
     ]
    }
   ],
   "source": [
    "print(nx.info(G))"
   ]
  },
  {
   "cell_type": "code",
   "execution_count": 9,
   "id": "published-cache",
   "metadata": {
    "ExecuteTime": {
     "end_time": "2021-06-30T13:17:45.849765Z",
     "start_time": "2021-06-30T13:17:45.839357Z"
    }
   },
   "outputs": [
    {
     "name": "stdout",
     "output_type": "stream",
     "text": [
      "Name: \n",
      "Type: Graph\n",
      "Number of nodes: 4039\n",
      "Number of edges: 88234\n",
      "Average degree:  43.6910\n"
     ]
    }
   ],
   "source": [
    "print(nx.info(G_fb))"
   ]
  },
  {
   "cell_type": "code",
   "execution_count": 10,
   "id": "owned-resolution",
   "metadata": {
    "ExecuteTime": {
     "end_time": "2021-06-30T13:30:40.413089Z",
     "start_time": "2021-06-30T13:30:35.733450Z"
    }
   },
   "outputs": [
    {
     "name": "stdout",
     "output_type": "stream",
     "text": [
      "0.6064805291595774\n",
      "0.6055467186200876\n"
     ]
    }
   ],
   "source": [
    "print(nx.average_clustering(G))\n",
    "print(nx.average_clustering(G_fb))"
   ]
  },
  {
   "cell_type": "code",
   "execution_count": 30,
   "id": "particular-latest",
   "metadata": {
    "ExecuteTime": {
     "end_time": "2021-06-30T20:31:58.606143Z",
     "start_time": "2021-06-30T20:30:10.997025Z"
    }
   },
   "outputs": [
    {
     "name": "stdout",
     "output_type": "stream",
     "text": [
      "3.4041571645255195\n",
      "3.6925068496963913\n"
     ]
    }
   ],
   "source": [
    "print(nx.average_shortest_path_length(G))\n",
    "print(nx.average_shortest_path_length(G_fb))"
   ]
  },
  {
   "cell_type": "code",
   "execution_count": 115,
   "id": "chronic-register",
   "metadata": {
    "ExecuteTime": {
     "end_time": "2021-06-30T22:21:41.200113Z",
     "start_time": "2021-06-30T22:21:41.196539Z"
    }
   },
   "outputs": [],
   "source": [
    "def power_law(x, gamma, c):\n",
    "    return c*x**(-gamma)"
   ]
  },
  {
   "cell_type": "code",
   "execution_count": 174,
   "id": "taken-recording",
   "metadata": {
    "ExecuteTime": {
     "end_time": "2021-06-30T22:41:27.035511Z",
     "start_time": "2021-06-30T22:41:27.026447Z"
    }
   },
   "outputs": [],
   "source": [
    "bins = range(df.num_of_edges.min(),df.num_of_edges.max())\n",
    "\n",
    "ydata, xdata = np.histogram(df.num_of_edges, bins = bins)\n",
    "xdata = xdata[:-1]\n",
    "\n",
    "datas = [(x,y) for x,y in zip(xdata, ydata) if y !=0]\n",
    "xdata, ydata = np.array([i[0] for i in datas]), np.array([i[1] for i in datas])"
   ]
  },
  {
   "cell_type": "code",
   "execution_count": 175,
   "id": "peaceful-flour",
   "metadata": {
    "ExecuteTime": {
     "end_time": "2021-06-30T22:41:28.122347Z",
     "start_time": "2021-06-30T22:41:27.410375Z"
    }
   },
   "outputs": [
    {
     "data": {
      "image/png": "[encoded data removed]",
      "text/plain": [
       "<Figure size 432x288 with 1 Axes>"
      ]
     },
     "metadata": {
      "needs_background": "light"
     },
     "output_type": "display_data"
    }
   ],
   "source": [
    "\n",
    "popt, pcov = curve_fit(power_law, xdata, ydata)\n",
    "\n",
    "plt.plot(xdata, ydata, \".\" )\n",
    "\n",
    "plt.plot(xdata, power_law(xdata, *popt), 'r-', )\n",
    "plt.xscale('log')\n",
    "plt.yscale('log')\n"
   ]
  },
  {
   "cell_type": "code",
   "execution_count": 176,
   "id": "soviet-eleven",
   "metadata": {
    "ExecuteTime": {
     "end_time": "2021-06-30T22:41:29.696615Z",
     "start_time": "2021-06-30T22:41:29.690572Z"
    }
   },
   "outputs": [
    {
     "data": {
      "text/plain": [
       "array([1.88961202e+00, 7.20532797e+04])"
      ]
     },
     "execution_count": 176,
     "metadata": {},
     "output_type": "execute_result"
    }
   ],
   "source": [
    "popt"
   ]
  },
  {
   "cell_type": "code",
   "execution_count": 177,
   "id": "delayed-tactics",
   "metadata": {
    "ExecuteTime": {
     "end_time": "2021-06-30T22:41:30.398533Z",
     "start_time": "2021-06-30T22:41:30.382984Z"
    }
   },
   "outputs": [],
   "source": [
    "degrees = np.array(list(dict(G_fb.degree()).values()))"
   ]
  },
  {
   "cell_type": "code",
   "execution_count": 178,
   "id": "aware-irish",
   "metadata": {
    "ExecuteTime": {
     "end_time": "2021-06-30T22:41:30.677615Z",
     "start_time": "2021-06-30T22:41:30.672231Z"
    }
   },
   "outputs": [
    {
     "data": {
      "text/plain": [
       "array([347,  17,  10, ...,   2,   4,   9])"
      ]
     },
     "execution_count": 178,
     "metadata": {},
     "output_type": "execute_result"
    }
   ],
   "source": [
    "degrees"
   ]
  },
  {
   "cell_type": "code",
   "execution_count": 179,
   "id": "unavailable-james",
   "metadata": {
    "ExecuteTime": {
     "end_time": "2021-06-30T22:41:30.936439Z",
     "start_time": "2021-06-30T22:41:30.926472Z"
    }
   },
   "outputs": [],
   "source": [
    "bins = range(degrees.min(),degrees.max())\n",
    "\n",
    "ydata, xdata = np.histogram(degrees, bins = bins)\n",
    "xdata = xdata[:-1]\n",
    "\n",
    "datas = [(x,y) for x,y in zip(xdata, ydata) if y !=0 and x]\n",
    "xdata, ydata = np.array([i[0] for i in datas]), np.array([i[1] for i in datas])"
   ]
  },
  {
   "cell_type": "code",
   "execution_count": 180,
   "id": "transsexual-deficit",
   "metadata": {
    "ExecuteTime": {
     "end_time": "2021-06-30T22:41:31.902015Z",
     "start_time": "2021-06-30T22:41:31.180570Z"
    }
   },
   "outputs": [
    {
     "name": "stderr",
     "output_type": "stream",
     "text": [
      "<ipython-input-115-dfc6b626ea1f>:2: RuntimeWarning: overflow encountered in power\n",
      "  return c*x**(-gamma)\n"
     ]
    },
    {
     "data": {
      "image/png": "[encoded data removed]",
      "text/plain": [
       "<Figure size 432x288 with 1 Axes>"
      ]
     },
     "metadata": {
      "needs_background": "light"
     },
     "output_type": "display_data"
    }
   ],
   "source": [
    "\n",
    "popt, pcov = curve_fit(power_law, xdata, ydata)\n",
    "\n",
    "plt.plot(xdata, ydata, \".\" )\n",
    "\n",
    "plt.plot(xdata, power_law(xdata, *popt), 'r-', )\n",
    "plt.xscale('log')\n",
    "plt.yscale('log')\n"
   ]
  },
  {
   "cell_type": "code",
   "execution_count": 181,
   "id": "conditional-diagram",
   "metadata": {
    "ExecuteTime": {
     "end_time": "2021-06-30T22:41:32.925379Z",
     "start_time": "2021-06-30T22:41:32.918554Z"
    }
   },
   "outputs": [
    {
     "data": {
      "text/plain": [
       "array([  0.50655165, 169.64780068])"
      ]
     },
     "execution_count": 181,
     "metadata": {},
     "output_type": "execute_result"
    }
   ],
   "source": [
    "popt"
   ]
  },
  {
   "cell_type": "code",
   "execution_count": null,
   "id": "radical-bouquet",
   "metadata": {},
   "outputs": [],
   "source": []
  }
 ],
 "metadata": {
  "kernelspec": {
   "display_name": "Python 3",
   "language": "python",
   "name": "python3"
  },
  "language_info": {
   "codemirror_mode": {
    "name": "ipython",
    "version": 3
   },
   "file_extension": ".py",
   "mimetype": "text/x-python",
   "name": "python",
   "nbconvert_exporter": "python",
   "pygments_lexer": "ipython3",
   "version": "3.8.5"
  },
  "latex_envs": {
   "LaTeX_envs_menu_present": true,
   "autoclose": false,
   "autocomplete": true,
   "bibliofile": "biblio.bib",
   "cite_by": "apalike",
   "current_citInitial": 1,
   "eqLabelWithNumbers": true,
   "eqNumInitial": 1,
   "hotkeys": {
    "equation": "Ctrl-E",
    "itemize": "Ctrl-I"
   },
   "labels_anchors": false,
   "latex_user_defs": false,
   "report_style_numbering": false,
   "user_envs_cfg": false
  },
  "toc": {
   "base_numbering": 1,
   "nav_menu": {},
   "number_sections": true,
   "sideBar": true,
   "skip_h1_title": false,
   "title_cell": "Table of Contents",
   "title_sidebar": "Contents",
   "toc_cell": false,
   "toc_position": {},
   "toc_section_display": true,
   "toc_window_display": false
  }
 },
 "nbformat": 4,
 "nbformat_minor": 5
}
